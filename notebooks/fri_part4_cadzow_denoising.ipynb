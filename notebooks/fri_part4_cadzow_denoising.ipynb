{
 "cells": [
  {
   "cell_type": "markdown",
   "metadata": {
    "collapsed": true
   },
   "source": [
    "# Pulse stream recovery under additive noise (cont.)\n",
    "\n",
    "We continue the discussion from the previous notebook in which we considered **_additive noise_** that corrupts our measurements of a finite pulse stream:"
   ]
  },
  {
   "cell_type": "markdown",
   "metadata": {},
   "source": [
    "\\begin{align}\n",
    "y_{meas}[n] = y_{BL}[n] + w[n],   \\nonumber\n",
    "\\end{align}"
   ]
  },
  {
   "cell_type": "markdown",
   "metadata": {},
   "source": [
    "where the values $w[n]$ can be modeled as zero-mean Gaussian noise $N(0, \\sigma^2)$ and $y_{BL}[n]$ are the lowpass filtered samples of a (periodic) finite pulse stream, e.g.:"
   ]
  },
  {
   "cell_type": "markdown",
   "metadata": {},
   "source": [
    "\\begin{align}\n",
    "y(t) = \\sum_{n\\in\\mathbb{Z}}\\sum_{k=0}^{K-1}c_k \\hspace{0.05cm} h(t-t_k-nT), \\nonumber\n",
    "\\end{align}"
   ]
  },
  {
   "cell_type": "markdown",
   "metadata": {},
   "source": [
    "where $T$ is the period (or finite duration) of the pulse stream, $h(t)$ is a known pulse shape, and $\\{c_k, t_k\\}_{k=0}^{K-1}$ are the desired pulse parameters to estimate from the measured samples.\n",
    "\n",
    "In the previous notebook, we saw how to exploit oversampled measurements, namely more samples than the degrees of freedom for the pulse $N\\geq2K+1$, in order to estimate the pulse parameters from noisy samples. The discussed method, **_total least-squares_** (TLS) [1], exploited the rank of the Toeptliz matrix of Fourier coefficients, given by $K$ for $K$ pulses.\n",
    "\n",
    "Although the approach worked well for high SNRs (signal-to-noise ratio) ($50$ dB for $K=6$ pulses), it quickly broke down for moderate SNR values ($10$ dB). This motivates an approach for **_denoising_** the estimated Fourier coefficients. Note that with TLS, no modifications are made to the estimated Fourier coefficients! \n",
    "\n",
    "There are multiple approaches for denoising; the one we will discuss in this notebook is **_Cadzow's iterative denoising_** [1]. In the previous notebook, we observed how it led to a successful recovery of the pulse parameters for an SNR of $10$ dB, which  proved difficult for TLS alone."
   ]
  },
  {
   "cell_type": "code",
   "execution_count": 1,
   "metadata": {
    "collapsed": true
   },
   "outputs": [],
   "source": [
    "import numpy as np\n",
    "import plot_settings\n",
    "import sys\n",
    "sys.path.append('..')\n",
    "\n",
    "from frius import create_pulse_param, sample_ideal_project, estimate_fourier_coeff, add_noise, compute_ann_filt, estimate_time_param, estimate_amplitudes, evaluate_recovered_param"
   ]
  },
  {
   "cell_type": "markdown",
   "metadata": {},
   "source": [
    "# 1. Cadzow's iterative denoising\n",
    "\n",
    "As TLS, Cadzow's iterative denoising exploits the rank property in order to denoise the estimated Fourier coefficients. Recall our Toeplitz matrix of Fourier coefficients: "
   ]
  },
  {
   "cell_type": "markdown",
   "metadata": {},
   "source": [
    "\\begin{align}\n",
    "\\mathbf{T}(\\mathbf{\\hat{x}}, \\mathrel{{K}{+}{1}}) = \\begin{bmatrix} \n",
    "\\hat{x}[\\mathrel{{-M}{+}{K}}]&\\hat{x}[\\mathrel{{-M}{+}{K}{-}{1}}] & \\cdots & \\hat{x}[-M]\\\\\n",
    "\\vdots&\\ddots &  \\ddots & \\vdots\\\\\n",
    "\\hat{x}[1] & \\hat{x}[0] &   \\cdots & \\hat{x}[\\mathrel{{-K}{+}{1}}] \\\\ \n",
    "\\hat{x}[2] & \\hat{x}[1] &  \\cdots & \\hat{x}[\\mathrel{{-K}{+}{2}}] \\\\ \n",
    "\\vdots&\\vdots& \\ddots & \\vdots\\\\\n",
    "\\hat{x}[M] & \\hat{x}[\\mathrel{{M}{-}{1}}]  & \\cdots & \\hat{x}[\\mathrel{{M}{-}{K}}]\n",
    "\\end{bmatrix},  \\nonumber\n",
    "\\end{align}"
   ]
  },
  {
   "cell_type": "markdown",
   "metadata": {},
   "source": [
    "If we can safely assume that the number of pulses is $K$, we saw earlier that $\\mathbf{T}(\\mathbf{\\hat{x}}, \\mathrel{{K}{+}{1}})$ should have a rank of $K$ in the noiseless scenario. The rank of $\\mathbf{T}(\\mathbf{\\hat{x}}, \\mathrel{{K}{+}{1}})$ will most likely increase when we obtain noisy estimated of the Fourier coefficients. \n",
    "\n",
    "As a \"proxy\" for measuring the rank, we can perform a singular value decomposition (SVD) and observe the raio between the $K^{th}$ and $(\\mathrel{{K}{+}{1}})^{th}$ singular value. In the noiseless case, the $(\\mathrel{{K}{+}{1}})^{th}$ singular value will be zero due to the rank property, resulting in a very large ratio between $K^{th}$ and $(\\mathrel{{K}{+}{1}})^{th}$ singular value if we are close to the noiseless case. We can verify this below with \"noiseless\" Fourier coefficients as numerical errors are inevitable."
   ]
  },
  {
   "cell_type": "code",
   "execution_count": 2,
   "metadata": {},
   "outputs": [
    {
     "name": "stdout",
     "output_type": "stream",
     "text": [
      "K/(K+1) singular value = 61065944870001.031250\n",
      "\n"
     ]
    }
   ],
   "source": [
    "from frius import Tmtx      # function to create Toeplitz convolution matrix, defined in `frius/fri_utils.py`\n",
    "from scipy.linalg import svd\n",
    "\n",
    "# signal parameters\n",
    "K = 6\n",
    "period = 1\n",
    "ck, tk = create_pulse_param(K=K, period=period)\n",
    "\n",
    "# sample\n",
    "oversample_freq = 2\n",
    "y_samp, t_samp, fs_ind_base = sample_ideal_project(ck, tk, period=period, oversample_freq=oversample_freq)\n",
    "\n",
    "# check singular value ratio\n",
    "fs_coeff_hat = estimate_fourier_coeff(y_samp, t_samp)\n",
    "T = Tmtx(fs_coeff_hat, K)\n",
    "s = svd(T)[1]\n",
    "print(\"K/(K+1) singular value = %f\\n\" % (s[K-1]/s[K]))"
   ]
  },
  {
   "cell_type": "markdown",
   "metadata": {},
   "source": [
    "For decreasing SNRs, we can then observe how this ratio decreases decreases *exponentially*, see the figure below and note that the $y$-axis is in log scale."
   ]
  },
  {
   "cell_type": "code",
   "execution_count": 3,
   "metadata": {},
   "outputs": [
    {
     "data": {
      "image/png": "[encoded data removed]",
      "text/plain": [
       "<matplotlib.figure.Figure at 0x1b0bff3cf8>"
      ]
     },
     "metadata": {},
     "output_type": "display_data"
    }
   ],
   "source": [
    "# signal parameters\n",
    "K = 6\n",
    "period = 1\n",
    "oversample_freq = 2\n",
    "\n",
    "# sweep parameters\n",
    "snr_vals = np.arange(100, -1, -5)\n",
    "n_trials = 20\n",
    "ratios = np.zeros((len(snr_vals), n_trials))\n",
    "for seed in range(n_trials):\n",
    "    ck, tk = create_pulse_param(K=K, period=period, seed=seed)\n",
    "    y_samp, t_samp, fs_ind_base = sample_ideal_project(ck, tk, period=period, oversample_freq=oversample_freq)\n",
    "    for k, snr_db in enumerate(snr_vals):\n",
    "        y_noisy = add_noise(y_samp, snr_db=snr_db)\n",
    "        fs_coeff_hat = estimate_fourier_coeff(y_noisy, t_samp)\n",
    "        T = Tmtx(fs_coeff_hat, K)\n",
    "        s = svd(T)[1]\n",
    "        ratios[k, seed] = s[K-1]/s[K]\n",
    "avg_ratios = np.mean(ratios, axis=1)\n",
    "\n",
    "plt.figure(figsize=(10,5))\n",
    "plt.semilogy(snr_vals, avg_ratios)\n",
    "plt.grid()\n",
    "plt.xlabel(\"SNR [dB]\")\n",
    "plt.xlim([min(snr_vals), max(snr_vals)])\n",
    "plt.ylabel(\"Singular value ratio\");"
   ]
  },
  {
   "cell_type": "markdown",
   "metadata": {},
   "source": [
    "How can we remedy this situation? Namely, how can we prevent such a decline in the singular value ratio? If we return to the SVD of our Toeplitz matrix:"
   ]
  },
  {
   "cell_type": "markdown",
   "metadata": {},
   "source": [
    "\\begin{align}\n",
    "\\mathbf{T}(\\mathbf{\\hat{x}_{noisy}}, L)  = \\mathbf{U} \\mathbf{\\Sigma} \\mathbf{V}^H \\text{ where } L \\geq K+1, \\nonumber\n",
    "\\end{align}"
   ]
  },
  {
   "cell_type": "markdown",
   "metadata": {},
   "source": [
    "our desired result (for $K$ pulses) is that we have at most $K$ non-zero singular values in $ \\mathbf{\\Sigma} \\in \\mathbb{C}^{(2M+1-K)\\times L} $. If this is not the case, we could think of **_projecting_** $\\mathbf{\\Sigma}$ to a matrix consisting of only the $K$ largest singular values, $\\rightarrow \\mathbf{\\Sigma}'$.\n",
    "\n",
    "As $ \\mathbf{\\Sigma}$ is a rectangular diagonal matrix with singular values in decreasing order along the diagonal, this projection consists of simply \"zero-ing\" those diagonal entries after the $K^{th}$ value. We could then construct a matrix of rank $K$ as such:"
   ]
  },
  {
   "cell_type": "markdown",
   "metadata": {},
   "source": [
    "\\begin{align}\n",
    "\\mathbf{F}_K = \\mathbf{U} \\mathbf{\\Sigma}' \\mathbf{V}^H. \\nonumber\n",
    "\\end{align}"
   ]
  },
  {
   "cell_type": "markdown",
   "metadata": {},
   "source": [
    "However, this new matrix of rank $K$ may no longer have a Toeplitz structure, i.e. constant along the diagonals. In order to preserve this property we could simply average along the diagonals. As the constants along the diagonals correspond to Fourier coefficients (see matrix above), we can extract the **_denoised_** coefficients as those values along  each diagonal. \n",
    "\n",
    "Those two steps are the keys components of Cadzow's iterative denoising! Namely:\n",
    "1. Projecting to low rank matrix with the SVD.\n",
    "2. Averaging along diagonals to maintain Toeplitz structure.\n",
    "\n",
    "The last step will most likely increase the rank of the matrix so the two steps are repeated for a fixed number of iterations or until the ratio between the $K^{th}$ and $(\\mathrel{{K}{+}{1}})^{th}$ singular value reaches a desired threshold. Once the stopping criterion has been met, the denoised Fourier coefficients can be extracted along the diagonals of the new Toeplitz matrix."
   ]
  },
  {
   "cell_type": "markdown",
   "metadata": {},
   "source": [
    "# 2. Code and simulation\n",
    "\n",
    "Below we implement a function that performs Cadzow's iterative denoising. An additional degree of freedom for the denoising approach is the number of columns $L$ in the Toeplitz matrix. In [1], they suggest creating a Toeplitz that is as square as possible."
   ]
  },
  {
   "cell_type": "code",
   "execution_count": 4,
   "metadata": {
    "collapsed": true
   },
   "outputs": [],
   "source": [
    "def cadzow_denoising(fs_coeff, K, L=None, n_iter=10, thresh=None, verbose=False):\n",
    "    \n",
    "    n_coeff = len(fs_coeff)\n",
    "    if L is None:\n",
    "        L = int(np.floor(0.5*n_coeff))\n",
    "       \n",
    "    # iterative denoising\n",
    "    fs_coeff_denoised = fs_coeff.copy()\n",
    "    diag_idx = L - np.arange(n_coeff)\n",
    "    S_tild = np.zeros((n_coeff-L, L+1), dtype=np.complex)\n",
    "    for k in range(n_iter):\n",
    "        \n",
    "        # form Toeplitz\n",
    "        T = Tmtx(fs_coeff_denoised, L)\n",
    "        \n",
    "        # project to rank K\n",
    "        U, s, Vh = svd(T)\n",
    "        if verbose:\n",
    "            print(\"ITERATION %d : K/(K+1) singular value = %f\" % (k, s[K-1]/s[K]))\n",
    "        if thresh is not None:\n",
    "            if (s[K-1]/s[K]) >= thresh:  \n",
    "                break\n",
    "        for d in range(K):\n",
    "            S_tild[d,d] = s[d]\n",
    "        T_tild = np.dot(np.dot(U, S_tild), Vh)\n",
    "        \n",
    "        # average along diagonal\n",
    "        for i, m in enumerate(diag_idx):\n",
    "            fs_coeff_denoised[i] = np.mean(np.diag(T_tild, m))\n",
    "            \n",
    "    return fs_coeff_denoised "
   ]
  },
  {
   "cell_type": "markdown",
   "metadata": {},
   "source": [
    "The above function is also defined in `'frius/fri_utils.py'`.\n",
    "\n",
    "In order to get a better idea of the algorithm performance, we suggest playing with the key denoising parameters below:\n",
    "* oversampling factor: `oversample_fact`\n",
    "* number of columns: `L`\n",
    "* number of Cadzow iterations: `n_iter`"
   ]
  },
  {
   "cell_type": "code",
   "execution_count": 5,
   "metadata": {},
   "outputs": [
    {
     "name": "stdout",
     "output_type": "stream",
     "text": [
      "ITERATION 0 : K/(K+1) singular value = 1.241812\n",
      "ITERATION 1 : K/(K+1) singular value = 12.872672\n",
      "ITERATION 2 : K/(K+1) singular value = 34.988395\n",
      "ITERATION 3 : K/(K+1) singular value = 90.494551\n",
      "ITERATION 4 : K/(K+1) singular value = 229.129927\n",
      "ITERATION 5 : K/(K+1) singular value = 574.253028\n",
      "ITERATION 6 : K/(K+1) singular value = 1425.610518\n",
      "ITERATION 7 : K/(K+1) singular value = 3422.334883\n",
      "ITERATION 8 : K/(K+1) singular value = 8214.301290\n",
      "ITERATION 9 : K/(K+1) singular value = 19717.845421\n",
      "\n",
      "K/(K+1) singular value = 511856.285185\n",
      "\n",
      "||tk - tk_hat||_2 = 0.003656 \n",
      "||ck - ck_hat||_2 = 0.303609 \n"
     ]
    },
    {
     "data": {
      "image/png": "[encoded data removed]",
      "text/plain": [
       "<matplotlib.figure.Figure at 0x1c14adea90>"
      ]
     },
     "metadata": {},
     "output_type": "display_data"
    }
   ],
   "source": [
    "# signal parameters\n",
    "K = 6\n",
    "period = 1\n",
    "ck, tk = create_pulse_param(K=K, period=period)\n",
    "\n",
    "# denoising parameters\n",
    "oversample_freq = 7\n",
    "L = None       # \"None\" for defaulting to square Toeplitz\n",
    "n_iter = 10\n",
    "\n",
    "# sample\n",
    "y_samp, t_samp, fs_ind_base = sample_ideal_project(ck, tk, period=period, oversample_freq=oversample_freq)\n",
    "\n",
    "# add noise\n",
    "snr_db = 10\n",
    "y_noisy = add_noise(y_samp, snr_db=snr_db)\n",
    "\n",
    "# apply cadzow denoising\n",
    "fs_coeff_hat = estimate_fourier_coeff(y_noisy, t_samp)\n",
    "fs_coeff_denoised = cadzow_denoising(fs_coeff_hat, K, L=L, n_iter=n_iter, verbose=True)\n",
    "print()\n",
    "\n",
    "# recovery\n",
    "freqs = fs_ind_base/period\n",
    "ann_filt = compute_ann_filt(fs_coeff_denoised, K, print_ratio=True)\n",
    "tk_hat = estimate_time_param(ann_filt, period)\n",
    "ck_hat = estimate_amplitudes(fs_coeff_hat, freqs, tk_hat, period)\n",
    "\n",
    "evaluate_recovered_param(ck, tk, ck_hat, tk_hat, viz=True, figsize=(10,5), t_max=period)\n",
    "plt.legend(loc=\"lower left\");"
   ]
  },
  {
   "cell_type": "markdown",
   "metadata": {},
   "source": [
    "In the next notebook, we will use this motivation of SNR to deal with **_modulated_** pulses, i.e. pulses that are not centered at baseband. We can intuitively see that in order to have a better SNR in our measurements, we should not stick to using those Fourier coefficients around baseband _but rather_ those coefficients centered around the modulation frequency of our pulse."
   ]
  },
  {
   "cell_type": "markdown",
   "metadata": {},
   "source": [
    "# References\n",
    "\n",
    "    [1] T. Blu, P. L. Dragotti, M. Vetterli, P. Marziliano and L. Coulot, \"Sparse Sampling of Signal Innovations,\" in IEEE Signal Processing Magazine, vol. 25, no. 2, pp. 31-40, March 2008."
   ]
  }
 ],
 "metadata": {
  "kernelspec": {
   "display_name": "Python 3",
   "language": "python",
   "name": "python3"
  },
  "language_info": {
   "codemirror_mode": {
    "name": "ipython",
    "version": 3
   },
   "file_extension": ".py",
   "mimetype": "text/x-python",
   "name": "python",
   "nbconvert_exporter": "python",
   "pygments_lexer": "ipython3",
   "version": "3.6.3"
  }
 },
 "nbformat": 4,
 "nbformat_minor": 2
}
