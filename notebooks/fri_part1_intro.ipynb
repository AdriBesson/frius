{
 "cells": [
  {
   "cell_type": "markdown",
   "metadata": {},
   "source": [
    "# Finite Rate of Innovation (FRI) introduction\n",
    "\n",
    "In this notebook, we provide an introductory tutorial on the Finite Rate of Innovation (FRI), based on the following paper ([IEEE link](https://ieeexplore.ieee.org/document/1003065/)):\n",
    "\n",
    "    M. Vetterli, P. Marziliano and T. Blu, \"Sampling signals with finite rate of innovation,\" in IEEE Transactions \n",
    "    on Signal Processing, vol. 50, no. 6, pp. 1417-1428, Jun 2002.\n",
    "    \n",
    "The purpose is to breakdown the underlying concept and sampling approach in an intuitive fashion, i.e. with code and clear explanations. In this notebook, we will consider the **_noiseless baseband_** case as to develop the intuition behind FRI. In another notebook, we will tackle _modulated_ and _noisy_ situations. For a more rigorous treatment, please refer to the paper!"
   ]
  },
  {
   "cell_type": "code",
   "execution_count": 1,
   "metadata": {
    "collapsed": true
   },
   "outputs": [],
   "source": [
    "import numpy as np\n",
    "import sys\n",
    "sys.path.append('..')\n",
    "import plot_settings\n",
    "from frius import create_pulse_param, sample_ideal_project, estimate_fourier_coeff, compute_ann_filt"
   ]
  },
  {
   "cell_type": "markdown",
   "metadata": {},
   "source": [
    "# 1. Projecting to bandlimited space prior to sampling\n",
    "\n",
    "The fundamental Nyquist-Shannon sampling theorem sets a lower bound on the sampling rate in order to perfectly recover **_bandlimited signals_**, i.e. signals of finite frequency support: \"if a function $ f(t) $ contains no frequencies higher than $ f_m $ Hz, it is completely determined by giving its ordinates at a series of points spaced $ (1/2f_m) $ seconds apart\" [1].\n",
    "\n",
    "If the signal we would like to sample is not bandlimited, we can first **_project_** it to a bandlimited space by applying a lowpass filter with the appropriate cut-off frequency. Assume that we are able to use a very simple (but very ideal) low-pass filter $ s_B(t) $, whose frequency response can be written as:"
   ]
  },
  {
   "cell_type": "markdown",
   "metadata": {},
   "source": [
    "\\begin{align}\n",
    "\t\\hat{s}_B(f) = \n",
    "\t\\begin{cases}\n",
    "\t1/B, & f\\in[-B/2, B/2]   \\\\[0.5em]\n",
    "\t0,      & \\text{otherwise},  \\\\\n",
    "\t\\end{cases}\n",
    "\\end{align}"
   ]
  },
  {
   "cell_type": "markdown",
   "metadata": {},
   "source": [
    "where the amplitude is $ (1/B) $ so that we have unit norm, $ \\|\\hat{s}_B(f)\\|_2 = 1 $. An example of such a filter can be seen below. The purpose of this filter is to prevent aliasing, which is why it is often called an **_anti-aliasing_** filter."
   ]
  },
  {
   "cell_type": "code",
   "execution_count": 2,
   "metadata": {},
   "outputs": [
    {
     "data": {
      "image/png": "[encoded data removed]",
      "text/plain": [
       "<matplotlib.figure.Figure at 0x115789e10>"
      ]
     },
     "metadata": {},
     "output_type": "display_data"
    }
   ],
   "source": [
    "# create ideal low-pass filter\n",
    "cutoff = 24000\n",
    "n_vals = 1000\n",
    "freqs = np.linspace(-1e5, 1e5, 1000)\n",
    "lpf = np.ones(n_vals)\n",
    "lpf[freqs<-cutoff] = 0\n",
    "lpf[freqs>cutoff] = 0\n",
    "\n",
    "plt.title(\"Ideal low-pass filter\")\n",
    "plt.plot(freqs, lpf)\n",
    "plt.grid()\n",
    "plt.autoscale(enable=True, axis='x', tight=True)\n",
    "plt.xlabel(\"Frequencies [Hz]\");"
   ]
  },
  {
   "cell_type": "markdown",
   "metadata": {},
   "source": [
    "By taking the inverse Fourier Transform (FT), we can express $ \\hat{s}_B(f) $ in the time-domain as:"
   ]
  },
  {
   "cell_type": "markdown",
   "metadata": {},
   "source": [
    "\\begin{align}\n",
    "\\label{eq:ideal_lp_time}\n",
    "s_B(t) = \\text{sinc}(Bt),\n",
    "\\end{align}"
   ]
  },
  {
   "cell_type": "markdown",
   "metadata": {},
   "source": [
    "where $ \\text{sinc}(t)=\\sin(\\pi t)/\\pi t $. \n",
    "\n",
    "After applying our ideal projection/filter to our input signal, the maximum frequency has been set to $ f_m = B/2 $. So according to Nyquist-Shannon, in order to sample the _now bandlimited signal_ so that it can be perfectly reconstructed from the measured samples, it is necessary to obtain samples at every $T_s = (1/B)$ seconds (or less), i.e. sample it at a rate $ f_s \\geq B$~Hz. We will refer to **_critical sampling_** as the case where we obtain just enough samples for perfect reconstruction. We can combine our filtering with critical sampling as such:"
   ]
  },
  {
   "cell_type": "markdown",
   "metadata": {},
   "source": [
    "\\begin{align}\n",
    "\ty_{BL}[n] &= y_{BL}(nT_s) \\nonumber\\\\[0.05cm]\n",
    "\t&= (y \\ast s_B)(u)|_{u = nT_s} \\nonumber \\\\\n",
    "\t&= \\int_{-\\infty}^{\\infty} y(t) \\hspace{0.05cm}  s_B(nT_s-t) dt \\nonumber\\\\\n",
    "\t&= \\int_{-\\infty}^{\\infty} y(t) \\hspace{0.05cm} \\text{sinc}\\Big(B(nT_s-t)\\Big) dt \\nonumber\\\\\n",
    "\t&= \\int_{-\\infty}^{\\infty} y(t) \\hspace{0.05cm} \\text{sinc}\\Big(\\dfrac{nT_s-t}{T_s}\\Big)  dt,\\nonumber\n",
    "\\end{align}  "
   ]
  },
  {
   "cell_type": "markdown",
   "metadata": {},
   "source": [
    "where $ n \\in \\mathbb{Z} $ and we use that $ T_s=(1/B) $ for our critical sampling case. We can equally express the above critical sampling in a single line as an inner product:"
   ]
  },
  {
   "cell_type": "markdown",
   "metadata": {},
   "source": [
    "\\begin{align}\n",
    "y_{BL}[n] = \\langle y, \\tilde{\\varphi }_n \\rangle,\n",
    "\\end{align} "
   ]
  },
  {
   "cell_type": "markdown",
   "metadata": {},
   "source": [
    "if we set $ \\tilde{\\varphi}_n(t) = \\text{sinc}\\big((nT_s-t)/T_s\\big) $. "
   ]
  },
  {
   "cell_type": "markdown",
   "metadata": {},
   "source": [
    "# 2. Bandlimited reconstruction \n",
    "\n",
    " We can then perfectly reconstruct the best bandlimited approximation $ y_{BL}(t) $, in a least-squares sense, of our original non-bandlimited signal from our samples $ y_{BL}[n] $ as such:"
   ]
  },
  {
   "cell_type": "markdown",
   "metadata": {},
   "source": [
    "\\begin{align}\n",
    " y_{BL}(t) &= \\sum_{n\\in\\mathbb{Z}} y_{BL}[n] \\hspace{0.05em} \\text{sinc}\\Big(\\dfrac{t - nT_s}{T_s}\\Big).\n",
    " \\end{align}"
   ]
  },
  {
   "cell_type": "markdown",
   "metadata": {},
   "source": [
    "Equivalently, if we let $ \\varphi_n(t) = \\tilde{\\varphi}_n(-t) = \\text{sinc}\\big((t - nT_s)/T_s\\big)$ and use our inner product notation from before, we can write the whole sampling _and_ reconstruction process in one shot!"
   ]
  },
  {
   "cell_type": "markdown",
   "metadata": {},
   "source": [
    " \\begin{align}\n",
    " \ty_{BL}(t) &=\\sum_{n\\in\\mathbb{Z}} \\langle y, \\tilde{\\varphi }_n \\rangle \\hspace{0.05em} \\varphi_n.\n",
    " \\end{align}"
   ]
  },
  {
   "cell_type": "markdown",
   "metadata": {},
   "source": [
    "If $ y(t) $ was already bandlimited to $ [-B/2,B/2] $, then $ y_{BL}(t) =y(t) $, reinforcing our idea of sampling and reconstruction as a projection, due to the process being idempotent. We can also observe that our optimal reconstruction filter $ \\varphi_n $ and the anti-aliasing operation $ \\tilde{\\varphi}_n $ are flipped versions of each other for perfect recovery. This is due to $ \\varphi_n $ being orthonormal to its integer shifts of $ T_s $: $ \\langle \\varphi_n, \\varphi_k \\rangle = \\delta_{n-k} $. "
   ]
  },
  {
   "cell_type": "markdown",
   "metadata": {},
   "source": [
    "# 3. Generalizing the projection operation\n",
    "\n",
    "We can interpret $ \\varphi(t) = \\text{sinc}(Bt) $ as a **_generating function_** for the bandlimited space $ [-B, B] $ as it allows us to construct any signal in this space with the appropriate shifts and weights of $ \\varphi(t) = \\text{sinc}(Bt) $. In [2], this generating function idea was extended to other functions that allow for sampling and reconstruction with more _practical_ choices of $ \\varphi(t) $, i.e. those with a much faster decay than $ \\text{sinc}(t) $ and with compact support. One idea was to relax the orthonormal requirement, e.g. with splines which can approximate polynomials up until a certain degree very well. In ou bandlimited reconstruction, we specifically saw the best approximation in the bandlimited space, which corresponds to a basis of shifted sinc functions. This idea can be extended to a different generating function at integer shifts of $ T_s $, i.e. uniform samples, for which we can denote the approximation in this $ \\varphi_n(t)$ basis as $y_{\\varphi}(t)$, namely:"
   ]
  },
  {
   "cell_type": "markdown",
   "metadata": {},
   "source": [
    "\\begin{align}\n",
    " \ty_{\\varphi}(t) &=\\sum_{n\\in\\mathbb{Z}} \\langle y, \\tilde{\\varphi }_n \\rangle \\hspace{0.05em} \\varphi_n.\n",
    "\\end{align}"
   ]
  },
  {
   "cell_type": "markdown",
   "metadata": {},
   "source": [
    "# 4. The \"rate of innovation\" perspective"
   ]
  },
  {
   "cell_type": "markdown",
   "metadata": {},
   "source": [
    "Another extension made by [3] is to consider the **_degrees of freedom per unit of time_**, for which the authors coined the term **_rate of innovation_**. For our bandlimited reconstruction, Nyquist-Shannon required us to have samples spaced $ (1/B) $ seconds apart, if the bandwidth of our input signal to limited to $ B $. This implies a **_finite_** rate of innovation (FRI) of $ \\rho = B = (1/T_s) $, or $ \\rho = (1/2f_m) $ when expressed in terms of the maximum frequency. On the other hand, an arbitrary non-bandlimited signal could have an _infinite_ rate of innovation. \n",
    "\n",
    "Continuing with the narrative of [3], we can write our sampling and reconstruction for at _arbitrary_ shifts $ t_n $ instead of integer shifts of $ T_s $:"
   ]
  },
  {
   "cell_type": "markdown",
   "metadata": {},
   "source": [
    "\\begin{align}\n",
    "    y_{\\varphi}(t)  &= \\sum_{n\\in\\mathbb{Z}} \\langle y, \\tilde{\\varphi }_n \\rangle \\hspace{0.05em} \\varphi_n \\nonumber\\\\\n",
    " \\Rightarrow \ty_{\\varphi}(t) &= \\sum_{n\\in\\mathbb{Z}} c_n \\hspace{0.05em} \\varphi\\Big(\\dfrac{t - t_n}{T_s}\\Big),\n",
    "\\end{align}"
   ]
  },
  {
   "cell_type": "markdown",
   "metadata": {},
   "source": [
    "where we now express $ \\langle y, \\tilde{\\varphi }_n \\rangle $ as coefficients $ c_n $ for our shifted generating functions (as was also done in [2]). From the more general expression above, we are interested in the conditions for which the approximation $ y_{\\varphi}(t)  $ perfectly matches the original signal $ y(t) $. For the bandlimited case, we have the following \"ingredients\":\n",
    "\n",
    "1. $ y(t) $ is bandlimited to $ B $; if not we make it bandlimited and are able to perfectly reconstruct this bandlimited version.\n",
    "2. $ c_n $ are samples taken at every $ T_s = (1/B) $ seconds.\n",
    "3. $ \\varphi(t) = \\text{sinc}(Bt) $, which will be \"placed\" at integer shifts of $ T_s $. \n",
    "\n",
    "However, in certain cases can we do better than a bandlimited approximation? In other words, can we achieve perfect reconstruction of $ y(t) $ in a situation deemed \"impossible\" according to the Nyquist-Shannon sampling theorem? Consider a single Dirac which has **_infinite bandwidth_**:"
   ]
  },
  {
   "cell_type": "markdown",
   "metadata": {},
   "source": [
    "\\begin{align}\n",
    "y(t) = \\delta(t-t_0) \\xrightarrow{\\mathscr{F}} \\hat{y}(f) = \\exp(-j2\\pi f t_0).\n",
    "\\end{align}"
   ]
  },
  {
   "cell_type": "markdown",
   "metadata": {},
   "source": [
    "We would certainly be able to sample and reconstruct a bandlimited version of this signal according to Nyquist-Shannon, where an anti-aliasing filter/generating function pair with larger and larger bandwidth would allow us to obtain an increasingly better bandlimited approximation. But determining the precise location $ t_0 $ of the Dirac would certainly be a much more faithful representation! Similarly, we can consider a $ T $-periodic sum of $ K $ known pulses $ h(t) $:"
   ]
  },
  {
   "cell_type": "markdown",
   "metadata": {},
   "source": [
    "\\begin{align}\n",
    "y(t) = \\sum_{n\\in\\mathbb{Z}}\\sum_{k=0}^{K-1}c_k \\hspace{0.05cm} h(t-t_k-nT),\n",
    "\\end{align}"
   ]
  },
  {
   "cell_type": "markdown",
   "metadata": {},
   "source": [
    "where in the single Dirac case we simply had $ h(t)=\\delta(t) $ and $ K=1 $. If we instead have a pulse stream over a finite duration $ T $, we can define it as $ T $-periodic as by simply repeating the signal at every $ T $ seconds. It does not make a significant difference for the recovery process that will be presented below, as it works on one period of the signal. "
   ]
  },
  {
   "cell_type": "markdown",
   "metadata": {},
   "source": [
    "A noteworthy observation we can make about the above **_pulse stream_** signal is that given we know the pulse shape $ h(t) $, there are only $2K$ degrees of freedom per period: the $K$ locations $\\{t_k\\}_{k=0}^{K-1}$ and the $K$ amplitudes $\\{c_k\\}_{k=0}^{K-1}$. We have, however, made a few __very strong__ assumptions:\n",
    "\n",
    "1. Our signal consists of exactly $ K $ pulses.\n",
    "2. We know the exact shape of the pulse.\n",
    "3. There is only one pulse shape.\n",
    "\n",
    "In the general bandlimited case, our only assumption was that our signal had (essentially) no frequency content above a certain maximum frequency $ f_m$. If not, we apply an anti-aliasing filter to project the signal onto a known bandlimited space. Nevertheless, if our pulse stream model assumption is correct, we can safely say that there are $ 2K $ degrees of freedom per period $ T $, implying an FRI of $ \\rho = (2K/T) $. \n",
    "\n",
    "In [3], a method for recovering the unknown finite parameters of a pulse stream is presented in the noiseless scenario. In the remainder of this notebook, we look at how this recovery is performed."
   ]
  },
  {
   "cell_type": "markdown",
   "metadata": {},
   "source": [
    "# 5. Pulse stream recovery\n",
    "\n",
    "As in the bandlimited case, we will obtain samples of our pulse stream after it has gone through a sampling kernel $ s_B(t) $, which may or may not be of our choosing. \n",
    "\n",
    "## Sampling requirements\n",
    "\n",
    "Moreover, for pulse stream recovery, we require:\n",
    "\n",
    "1. The bandwidth $ B $ of our sampling kernel $ s_B(t) $ to be greater than and or equal to the rate of innovation $ \\rho $.\n",
    "2. $ N \\geq (2M+1) $ uniform samples where $ M = \\lfloor BT/2 \\rfloor $. Moreover, the sampling period should be $ T_s = T/N $.\n",
    "\n",
    "As for the bandlimited case, we will require a sampling kernel with bandwidth $ B \\geq \\rho $. For critical sampling of a pulse stream signal, this corresponds to $ B = (2K/T) $, where $ K $ is the number of pulses and the $ T $ is the period of the signal. \n",
    "\n",
    "In the bandlimited scenario, we then require samples at every $ T_s = (1/B) $ seconds. For pulse stream recovery, in order to use real-valued sampling kernels, i.e. $ \\hat{s}_B(f) $ being conjugate symmetric, we will need to meet the second condition above, yielding the following samples:"
   ]
  },
  {
   "cell_type": "markdown",
   "metadata": {},
   "source": [
    "\\begin{align}\n",
    "y_{BL}[n] &= y(nT_s)  =\\langle y(t), s_B(nT_s - t) \\rangle \\nonumber\\\\\n",
    "&= \\langle y(t), \\text{sinc}\\big((nT_s-t)B\\big)  \\rangle  \\text{ for }  n\\in[0, 1, \\ldots, \\mathrel{{N}{-}{1}}],\\nonumber\n",
    "\\end{align} "
   ]
  },
  {
   "cell_type": "markdown",
   "metadata": {},
   "source": [
    "where we again assume an ideal sampling kernel as in the bandlimited case presented before.\n",
    "\n",
    "## Recovery in code and visuals\n",
    "\n",
    "With these samples, the recovery boils to determining a **_mask_** whose zeros coincide precisely with the location of the pulses. \n",
    "\n",
    "Below we consider a pulse stream with six _Diracs_ that goes through a sampling kernel that meets the above requirements. In other words, are signal has the following form:"
   ]
  },
  {
   "cell_type": "markdown",
   "metadata": {},
   "source": [
    "\\begin{align}\n",
    "y(t) = \\sum_{n\\in\\mathbb{Z}}\\sum_{k=0}^{K-1}c_k \\hspace{0.05cm} \\delta(t-t_k-nT),\n",
    "\\end{align}"
   ]
  },
  {
   "cell_type": "markdown",
   "metadata": {},
   "source": [
    "where $K=6$ and for this example we will set $T=1$. Consequently $y(t)$ goes through a sampling kernel with the following frequency response."
   ]
  },
  {
   "cell_type": "markdown",
   "metadata": {},
   "source": [
    "\\begin{align}\n",
    "\t\\hat{s}_B(f) = \n",
    "\t\\begin{cases}\n",
    "\t1/B, & f\\in[-B/2, B/2]   \\\\[0.5em]\n",
    "\t0,      & \\text{otherwise},  \\\\\n",
    "\t\\end{cases}\n",
    "\\end{align}"
   ]
  },
  {
   "cell_type": "markdown",
   "metadata": {},
   "source": [
    "where $B=2K/T$, i.e. a filter with the minimum bandwidth possible for recovery. Finally, we obtain $N=2K+1$ samples, corresponding to a sampling rate of $f_s = (2K+1)/T$.\n",
    "\n",
    "Below, we start off by creating and signal parameters and synthesize the lowpass filtering and sampling. See 'frius/fri_utils.py' for the definitions of the used functions."
   ]
  },
  {
   "cell_type": "code",
   "execution_count": 3,
   "metadata": {},
   "outputs": [
    {
     "data": {
      "image/png": "[encoded data removed]",
      "text/plain": [
       "<matplotlib.figure.Figure at 0x115789630>"
      ]
     },
     "metadata": {},
     "output_type": "display_data"
    }
   ],
   "source": [
    "K = 6\n",
    "period = 1\n",
    "ck, tk = create_pulse_param(K=K, period=period)\n",
    "y_samp, t_samp, fs_ind_base = sample_ideal_project(ck, tk, period=period, viz=True, figsize=(10,5))"
   ]
  },
  {
   "cell_type": "markdown",
   "metadata": {},
   "source": [
    "The novelty in the pulse stream recovery algorithm of [3] is in identifying the \"mapping\" between our measured samples and values with which we can determine this **_mask_** that will lead us to the pulse stream parameters. This idea can be generalized to models different than the pulse stream we are considering here, as are also discussed in [3] and [4].\n",
    "\n",
    "For the pulse stream signal, the FT of our samples yield us the samples that will allow us to determine the mask, which is also referred to as the **_annihilating filter_**."
   ]
  },
  {
   "cell_type": "code",
   "execution_count": 4,
   "metadata": {
    "collapsed": true
   },
   "outputs": [],
   "source": [
    "fs_coeff_hat = estimate_fourier_coeff(y_samp, t_samp)\n",
    "ann_filt = compute_ann_filt(fs_coeff_hat, K)"
   ]
  },
  {
   "cell_type": "markdown",
   "metadata": {},
   "source": [
    "The term \"annihilation\" arises from the fact that when we convolve our annihilating filter with the Fourier coefficients of the measured samples, the resulting output will be zero, i.e. annihilated!"
   ]
  },
  {
   "cell_type": "code",
   "execution_count": 5,
   "metadata": {},
   "outputs": [
    {
     "name": "stdout",
     "output_type": "stream",
     "text": [
      "ann_filt conv fs_coeff_hat =  [  3.12639119e-13   2.64074429e-14   1.18856725e-13   4.61886137e-14\n",
      "   1.15667977e-13   2.89169943e-14   3.79429987e-15]\n"
     ]
    }
   ],
   "source": [
    "print(\"ann_filt conv fs_coeff_hat = \", np.abs(np.convolve(ann_filt, fs_coeff_hat, mode='valid')))"
   ]
  },
  {
   "cell_type": "markdown",
   "metadata": {},
   "source": [
    "Moreover, we can observe that the zeros of our mask (the time domain representation of the annihilating filter) coincide exactly with the zeros of our pulse stream!"
   ]
  },
  {
   "cell_type": "code",
   "execution_count": 6,
   "metadata": {},
   "outputs": [
    {
     "data": {
      "image/png": "[encoded data removed]",
      "text/plain": [
       "<matplotlib.figure.Figure at 0x11aa2ba90>"
      ]
     },
     "metadata": {},
     "output_type": "display_data"
    }
   ],
   "source": [
    "# annihilating filter in time domain\n",
    "t_vals = np.linspace(0., period, num=1000, endpoint=True)\n",
    "z = np.exp(-1j*2*np.pi*t_vals/period)\n",
    "mask = np.abs(np.polyval(ann_filt, z))\n",
    "mask /= max(mask)\n",
    "\n",
    "# plot\n",
    "plt.figure(figsize=(12,5))\n",
    "baseline = plt.stem(tk, ck/max(abs(ck)), 'g', markerfmt='go', label=\"Pulse parameters\")[2]\n",
    "plt.setp(baseline, color='g')\n",
    "baseline.set_xdata([0, period])\n",
    "plt.xlim([0,period])\n",
    "plt.grid()\n",
    "plt.xlabel(\"Time [seconds]\")\n",
    "plt.plot(t_vals, mask, label=\"Mask\")\n",
    "plt.legend(loc='lower left');"
   ]
  },
  {
   "cell_type": "markdown",
   "metadata": {},
   "source": [
    "Therefore, recovering the locations of our pulses, $\\{t_k\\}_{k=0}^{K-1}$, corresponds precisely to determining the zeros of this mask!"
   ]
  },
  {
   "cell_type": "code",
   "execution_count": 7,
   "metadata": {},
   "outputs": [
    {
     "name": "stdout",
     "output_type": "stream",
     "text": [
      "||tk - tk_hat||_2 = 0.000000 \n"
     ]
    }
   ],
   "source": [
    "uk = np.roots(ann_filt)\n",
    "uk = uk / np.abs(uk)                                         # project to unit circle\n",
    "tk_hat = np.real(1j * period * np.log(uk) / (2 * np.pi))     # invert \"mapping\" to get to parameters  \n",
    "tk_hat = tk_hat - np.floor(tk_hat / period) * period         # ensure location within [0, period]\n",
    "tk_hat = np.sort(tk_hat)                                     # sort for comparison as `tk` are sorted\n",
    "print(\"||tk - tk_hat||_2 = %f \" % np.linalg.norm(tk-tk_hat))"
   ]
  },
  {
   "cell_type": "markdown",
   "metadata": {},
   "source": [
    "The function 'estimate_time_param' in 'frius/fri_utils.py' implements the above code snippet.\n",
    "\n",
    "Once we know the pulse locations, determining the amplitudes of the pulses, $\\{c_k\\}_{k=0}^{K-1}$, can be cast as a least-squares problem by \"placing\" the pulses at the recovered positions, forming the forward matrix between the amplitudes and the measured samples.\n",
    "\n",
    "We can also perform the \"fitting\" in the frequency domain as is done below. Moreover, the Fourier coefficient indices divided by the period yields the corresponding frequency values in Hertz."
   ]
  },
  {
   "cell_type": "code",
   "execution_count": 8,
   "metadata": {},
   "outputs": [
    {
     "name": "stdout",
     "output_type": "stream",
     "text": [
      "||ck - ck_hat||_2 = 0.000000 \n"
     ]
    }
   ],
   "source": [
    "tk_grid, freqs_grid = np.meshgrid(tk_hat, fs_ind_base/period)\n",
    "Phi = np.exp(-1j*2*np.pi*freqs_grid*tk_grid)/period             # forward matrix A in y=Ax\n",
    "ck_hat = np.real(lstsq(Phi, fs_coeff_hat)[0])                   # 'fs_coeff_hat' corresponds to 'y'\n",
    "print(\"||ck - ck_hat||_2 = %f \" % np.linalg.norm(ck-ck_hat))"
   ]
  },
  {
   "cell_type": "markdown",
   "metadata": {},
   "source": [
    "The function 'estimate_amplitudes' in 'frius/fri_utils.py' implements the above code snippet."
   ]
  },
  {
   "cell_type": "markdown",
   "metadata": {},
   "source": [
    "## Recovery steps\n",
    "\n",
    "Assuming the above sampling requirements have been met, we can use the following procedure to recover the $2K$ parameters of an (ideal) lowpass filtered **_Dirac_** stream with $K$ pulses [3]:\n",
    "\n",
    "1. With the samples, estimate the Fourier coefficients with the DFT, as done with the function 'estimate_fourier_coeff' in 'frius/fri_utils.py'.\n",
    "2. Obtain the annihilating filter for the Fourier coefficients. See [3] for a mathematical description and 'compute_ann_filt' in 'frius/fri_utils.py' for implementation details. \n",
    "3. Find the $K$ zeros of the mask corresponding to the annihilating filter. This will yield the locations $\\{t_k\\}_{k=0}^{K-1}$.\n",
    "4. With the locations and measured samples, solve a least-squares for the pulse amplitudes $\\{c_k\\}_{k=0}^{K-1}$.\n",
    "\n",
    "We place an emphasis on **_Dirac_**, as an additional step needs to be performed **_before_** determining the annihilating filter in order to work with arbitrary pulse shapes. This will be discussed in the next notebook!"
   ]
  },
  {
   "cell_type": "markdown",
   "metadata": {},
   "source": [
    "# References\n",
    "\n",
    "    [1] C. E. Shannon. “Communication in the Presence of Noise”. In: Proceedings of the IRE 37 (1949), pp. 10–21.\n",
    "    [2] M. Unser. “Sampling-50 years after Shannon”. In: Proceedings of the IEEE 88 (2000), pp. 569–587.\n",
    "    [3] M. Vetterli, P. Marziliano and T. Blu, \"Sampling signals with finite rate of innovation,\" in IEEE Transactions on Signal Processing, vol. 50, no. 6, pp. 1417-1428, Jun 2002.\n",
    "    [4] P. L. Dragotti, M. Vetterli and T. Blu, \"Sampling Moments and Reconstructing Signals of Finite Rate of Innovation: Shannon Meets Strang–Fix,\" in IEEE Transactions on Signal Processing, vol. 55, no. 5, pp. 1741-1757, May 2007."
   ]
  }
 ],
 "metadata": {
  "kernelspec": {
   "display_name": "Python 3",
   "language": "python",
   "name": "python3"
  },
  "language_info": {
   "codemirror_mode": {
    "name": "ipython",
    "version": 3
   },
   "file_extension": ".py",
   "mimetype": "text/x-python",
   "name": "python",
   "nbconvert_exporter": "python",
   "pygments_lexer": "ipython3",
   "version": "3.6.3"
  }
 },
 "nbformat": 4,
 "nbformat_minor": 2
}
