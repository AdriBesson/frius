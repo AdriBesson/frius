{
 "cells": [
  {
   "cell_type": "markdown",
   "metadata": {},
   "source": [
    "# FRI with Bandpass Kernel\n",
    "\n",
    "This is what will be covered in this notebook:\n",
    "1. [Recap](#recap): summarizes what was discussed in the previous notebook.\n",
    "2. [Bandpass modification](#bp_mod): modifies the algorithm we previously saw to work for the general bandpass case.\n",
    "3. [Pulse stream secovery from bandpass projection (code)](#code): applies the bandpass projection and recovery process in Python.\n",
    "4. [Why bandpass?](#why): explains two scenarios in which a bandpass projection is more appropriate and links the bandpass projection to IQ demodulation.\n",
    "5. [Summary](#summary): summarizes the main points of this notebook and introduces the topic of the next.\n",
    "\n",
    "<a id='recap'></a>\n",
    "# 1. Recap\n",
    "\n",
    "In the previous tutorial, we introduced the idea of _finite rate of innovation_ (FRI), which essentially means that a signal has a finite number of degrees of freedom per unit of time. Moreover, the paper [\"Sampling signals with finite rate of innovation\"](https://ieeexplore.ieee.org/document/1003065/) by Vetterli et. al, made the intuitive claim that it is possible to perfectly recover an FRI signal from a discrete set of values sampled at greater than or equal to the rate of innovation. _Conversely, signals with an infinite rate of innovation cannot be perfectly recovered from their finite samples!_\n",
    "\n",
    "A bandlimited signal (or bandlimited approximation of a non-bandlimited signal) is simply a special case of an FRI signal. Furthermore, FRI is not limited to bandlimited signals. In the above paper and in the previous notebook, we showed how to sample and perfectly reconstruct the following signal from just $2K+1$ samples over its period/duration $\\tau$:"
   ]
  },
  {
   "cell_type": "markdown",
   "metadata": {},
   "source": [
    "\\begin{equation}\n",
    "y(t) = \\sum_{k=0}^{K-1}c_k\\cdot h(t-t_k)\n",
    "\\end{equation}"
   ]
  },
  {
   "cell_type": "markdown",
   "metadata": {},
   "source": [
    "where $h(t)$ is known. Such a signal could have infinite bandwidth, e.g. $h(t)=\\delta(t)$, so a faithful representation could require a large number of samples according to the [Nyquist-Shannon sampling theorem](https://en.wikipedia.org/wiki/Nyquist%E2%80%93Shannon_sampling_theorem). However, as we only have $2K$ degrees of freedom, at least $2K$ samples are sufficient for recovering the parameters $\\{t_k\\}_{k=0}^{K-1}$ and $\\{c_k\\}_{k=0}^{K-1}$. We summarize with the steps from the last notebook below:\n",
    "\n",
    "### Pulse stream recovery procedure (baseband / lowpass)\n",
    "\n",
    "Project $y(t)= \\sum_{k=0}^{K-1}c_k\\cdot h(t-t_k)$ to a bandlimited space with the sampling kernel $s(t)$ and obtain $2K+1$ samples. The sampling kernel must have a bandwidth of at least $ 2K/\\tau$ Hz. Below we use a sampling kernel bandlimited to $[-K/\\tau, K/\\tau]$ Hz (lowpass projection) and take samples at intervals of $T_s = \\dfrac{\\tau}{2K+1}$ seconds."
   ]
  },
  {
   "cell_type": "markdown",
   "metadata": {},
   "source": [
    "\\begin{align}\n",
    "y_{BL}[n] = (y \\ast s)[nT_s], \\hspace{0.5cm} n\\in[0,2K]\n",
    "\\end{align}"
   ]
  },
  {
   "cell_type": "markdown",
   "metadata": {},
   "source": [
    "Take the DFT of the obtained samples and divide by the number of samples to obtain $2K+1$ adjacent Fourier Series coefficients $\\{Y_{BL}[m]\\}_{m=-K}^{K}$."
   ]
  },
  {
   "cell_type": "markdown",
   "metadata": {},
   "source": [
    "\\begin{equation}\n",
    "\\mathbf{Y}_{BL} = \\dfrac{\\text{DFT}([y_{BL}[0], y_{BL}[1], \\ldots, y_{BL}[2K]])} {2K+1}\n",
    "\\end{equation}"
   ]
  },
  {
   "cell_type": "markdown",
   "metadata": {},
   "source": [
    "Remove the pulse/channel shape, also known as \"equalization\":"
   ]
  },
  {
   "cell_type": "markdown",
   "metadata": {},
   "source": [
    "\\begin{align}\n",
    "X[m] = \\dfrac{Y_{BL}[m]}{H(m/\\tau)}, \\hspace{0.5cm} m\\in[-K,K]\n",
    "\\end{align}"
   ]
  },
  {
   "cell_type": "markdown",
   "metadata": {},
   "source": [
    "Solve the Yule-Walker system of equations for the annihilating filter $\\mathbf{A}$, where $A[0]=1$ and $\\{A[m]=0\\}_{m\\not\\in[0,K]}$:"
   ]
  },
  {
   "cell_type": "markdown",
   "metadata": {},
   "source": [
    "\\begin{align}\n",
    "\\begin{bmatrix} \n",
    "X[0] & X[-1] &  \\cdots & X[-K+1] \\\\ \n",
    "X[1] & X[0] &  \\cdots & X[-K+2] \\\\\n",
    " & & \\ddots &\\\\\n",
    "X[K-1] & X[K-2] & \\cdots & X[0]\n",
    "\\end{bmatrix} \n",
    "\\cdot \n",
    "\\begin{bmatrix} A[1] \\\\ A[2] \\\\ \\vdots\\\\ A[K]\\end{bmatrix}\n",
    "&=\n",
    "- \\begin{bmatrix} X[1] \\\\ X[2] \\\\ \\vdots\\\\ X[K]\\end{bmatrix}\n",
    "\\end{align}"
   ]
  },
  {
   "cell_type": "markdown",
   "metadata": {},
   "source": [
    "Find the $K$ zeros $\\{u_k\\}_{k=0}^{K-1}$ of the following polynomial:"
   ]
  },
  {
   "cell_type": "markdown",
   "metadata": {},
   "source": [
    "\\begin{align}\n",
    "A(z) &= 1 + A[1]z^{-1} + A[2]z^{-2} + \\ldots +  A[K]z^{-K}\\\\\n",
    "&= \\prod_{k=0}^{K-1} (1 - u_k z^{-1}) \\\\\n",
    "\\end{align}"
   ]
  },
  {
   "cell_type": "markdown",
   "metadata": {},
   "source": [
    "Obtain the time locations $\\{t_k\\}_{k=0}^{K-1}$ from the zeros $\\{u_k\\}_{k=0}^{K-1}$:"
   ]
  },
  {
   "cell_type": "markdown",
   "metadata": {},
   "source": [
    "\\begin{align}\n",
    "u_k &= \\exp(-j2\\pi t_k/\\tau)\\\\\n",
    "\\Rightarrow  t_k &= \\Re{(\\dfrac{j \\tau \\ln(u_k)} {2\\pi})}\n",
    "\\end{align}"
   ]
  },
  {
   "cell_type": "markdown",
   "metadata": {},
   "source": [
    "Solve the following linear system of equations for the amplitudes $\\{c_k\\}_{k=0}^{K-1}$:"
   ]
  },
  {
   "cell_type": "markdown",
   "metadata": {},
   "source": [
    "\\begin{align}\n",
    "\\begin{bmatrix} X[0] \\\\ X[1] \\\\ \\vdots\\\\ X[K-1]\\end{bmatrix}\n",
    "&= \\dfrac{1}{\\tau}\n",
    "\\begin{bmatrix} \n",
    "1 & 1 & \\cdots & 1 \\\\\n",
    "u_0& u_1 & \\cdots & u_{K-1}\\\\ \n",
    "\\vdots & \\vdots & \\cdots & \\vdots \\\\\n",
    "u_0^{K-1} & u_1^{K-1}  & \\cdots & u_{K-1}^{K-1}\\\\ \n",
    "\\end{bmatrix} \n",
    "\\cdot \n",
    "\\begin{bmatrix} c_0 \\\\ c_1 \\\\ \\vdots\\\\ c_{K-1}\\end{bmatrix}\n",
    "\\end{align}"
   ]
  },
  {
   "cell_type": "markdown",
   "metadata": {},
   "source": [
    "<a id='bp_mod'></a>\n",
    "# 2. Bandpass modification\n",
    "\n",
    "In the above procedure, we used a lowpass filter in order to project our FRI signal onto a bandlimited space. However, as previously mentioned we can project our FRI signal onto **any bandlimited space** as we simply require at least $2K$ adjacent Fourier coefficients to solve for the annihilating filter for $K$ pulses. \n",
    "\n",
    "If we consider a Fourier coefficient index $M_c$ as our bandpass filter's center frequency index, we can apply the following projection filter/operation to obtain at least $2K$ adjacent Fourier coefficients:"
   ]
  },
  {
   "cell_type": "markdown",
   "metadata": {},
   "source": [
    "\\begin{equation}\n",
    "S(f) = \n",
    "\\begin{cases}\n",
    "\\text{1}, & f=\\dfrac{m}{\\tau}, \\hspace{0.2cm} m\\in[M_c-K, M_c+K]   \\\\[0.5em]\n",
    "\\text{0},      & f=\\dfrac{m}{\\tau}, \\hspace{0.2cm} m\\not\\in[M_c-K, M_c+K]    \\\\[0.5em]\n",
    "\\text{arbitrary}, & \\text{otherwise}  \\\\\n",
    "\\end{cases}\n",
    "\\end{equation}"
   ]
  },
  {
   "cell_type": "markdown",
   "metadata": {},
   "source": [
    "For the lowpass sampling kernel, we had $M_c = 0$. To obtain the corresponding frequency $f_c$ in Hz, we just need to divide index by the period/duration $\\tau$:"
   ]
  },
  {
   "cell_type": "markdown",
   "metadata": {},
   "source": [
    "\\begin{equation}\n",
    "f_c = \\dfrac{M_c}{\\tau} \\hspace{0.2cm} \\text{[Hz]}\n",
    "\\end{equation}"
   ]
  },
  {
   "cell_type": "markdown",
   "metadata": {},
   "source": [
    "So how does this modify the above procedure? It really only changes the indices for $X[m]$! Below we present the modified procedure.\n",
    "\n",
    "### Pulse stream recovery procedure (general bandpass)\n",
    "\n",
    "Project $y(t)= \\sum_{k=0}^{K-1}c_k\\cdot h(t-t_k)$ to a **bandlimited** space with the sampling kernel $s(t)$ and obtain $2K+1$ samples. The sampling kernel must have a bandwidth of at least $ 2K/\\tau$ Hz. Below we use a sampling kernel bandlimited to $[\\dfrac{M_c-K}{\\tau}, \\dfrac{M_c+K}{\\tau}]$ Hz (where $f_c=M_c/\\tau$ is the center frequency) and take samples at intervals of $T_s = \\dfrac{\\tau}{2K+1}$ seconds."
   ]
  },
  {
   "cell_type": "markdown",
   "metadata": {},
   "source": [
    "\\begin{align}\n",
    "y_{BL}[n] = (y \\ast s)[nT_s], \\hspace{0.5cm} n\\in[0,2K]\n",
    "\\end{align}"
   ]
  },
  {
   "cell_type": "markdown",
   "metadata": {},
   "source": [
    "Take the DFT of the obtained samples and divide by the number of samples to obtain $2K+1$ adjacent Fourier Series coefficients $\\{Y_{BL}[m]\\}_{m=M_c-K}^{M_c+K}$."
   ]
  },
  {
   "cell_type": "markdown",
   "metadata": {},
   "source": [
    "\\begin{equation}\n",
    "\\mathbf{Y}_{BL} = \\dfrac{\\text{DFT}([y_{BL}[0], y_{BL}[1], \\ldots, y_{BL}[2K]])} {2K+1}\n",
    "\\end{equation}"
   ]
  },
  {
   "cell_type": "markdown",
   "metadata": {},
   "source": [
    "Remove the pulse/channel shape from our projected signal in the bandlimited region, also known as \"equalization\":"
   ]
  },
  {
   "cell_type": "markdown",
   "metadata": {},
   "source": [
    "\\begin{align}\n",
    "X[m] = \\dfrac{Y_{BL}[m]}{H(m/\\tau)}, \\hspace{0.5cm} m\\in[M_c-K, M_c+K] \n",
    "\\end{align}"
   ]
  },
  {
   "cell_type": "markdown",
   "metadata": {},
   "source": [
    "Solve the Yule-Walker system of equations for the annihilating filter $\\mathbf{A}$, where $A[0]=1$ and $\\{A[m]=0\\}_{m\\not\\in[0,K]}$:"
   ]
  },
  {
   "cell_type": "markdown",
   "metadata": {},
   "source": [
    "\\begin{align}\n",
    "\\begin{bmatrix} \n",
    "X[M_c] & X[M_c-1] &  \\cdots & X[M_c-K+1] \\\\ \n",
    "X[M_c+1] & X[M_c] &  \\cdots & X[M_c-K+2] \\\\\n",
    " & & \\ddots &\\\\\n",
    "X[M_c+K-1] & X[M_c+K-2] & \\cdots & X[M_c]\n",
    "\\end{bmatrix} \n",
    "\\cdot \n",
    "\\begin{bmatrix} A[1] \\\\ A[2] \\\\ \\vdots\\\\ A[K]\\end{bmatrix}\n",
    "&=\n",
    "- \\begin{bmatrix} X[M_c+1] \\\\ X[M_c+2] \\\\ \\vdots\\\\ X[M_c+K]\\end{bmatrix}\n",
    "\\end{align}"
   ]
  },
  {
   "cell_type": "markdown",
   "metadata": {},
   "source": [
    "Find the $K$ zeros $\\{u_k\\}_{k=0}^{K-1}$ of the following polynomial:"
   ]
  },
  {
   "cell_type": "markdown",
   "metadata": {},
   "source": [
    "\\begin{align}\n",
    "A(z) &= 1 + A[1]z^{-1} + A[2]z^{-2} + \\ldots +  A[K]z^{-K}\\\\\n",
    "&= \\prod_{k=0}^{K-1} (1 - u_k z^{-1}) \\\\\n",
    "\\end{align}"
   ]
  },
  {
   "cell_type": "markdown",
   "metadata": {},
   "source": [
    "Obtain the time locations $\\{t_k\\}_{k=0}^{K-1}$ from the zeros $\\{u_k\\}_{k=0}^{K-1}$:"
   ]
  },
  {
   "cell_type": "markdown",
   "metadata": {},
   "source": [
    "\\begin{align}\n",
    "u_k &= \\exp(-j2\\pi t_k/\\tau)\\\\\n",
    "\\Rightarrow  t_k &= \\Re{(\\dfrac{j \\tau \\ln(u_k)} {2\\pi})}\n",
    "\\end{align}"
   ]
  },
  {
   "cell_type": "markdown",
   "metadata": {},
   "source": [
    "Solve the following linear system of equations for the amplitudes $\\{c_k\\}_{k=0}^{K-1}$:"
   ]
  },
  {
   "cell_type": "markdown",
   "metadata": {},
   "source": [
    "\\begin{align}\n",
    "\\begin{bmatrix} X[M_c] \\\\ X[M_c+1] \\\\ \\vdots\\\\ X[M_c+K-1]\\end{bmatrix}\n",
    "&= \\dfrac{1}{\\tau}\n",
    "\\begin{bmatrix} \n",
    "1 & 1 & \\cdots & 1 \\\\\n",
    "u_0& u_1 & \\cdots & u_{K-1}\\\\ \n",
    "\\vdots & \\vdots & \\cdots & \\vdots \\\\\n",
    "u_0^{K-1} & u_1^{K-1}  & \\cdots & u_{K-1}^{K-1}\\\\ \n",
    "\\end{bmatrix} \n",
    "\\cdot \n",
    "\\begin{bmatrix} c_0 \\\\ c_1 \\\\ \\vdots\\\\ c_{K-1}\\end{bmatrix}\n",
    "\\end{align}"
   ]
  },
  {
   "cell_type": "markdown",
   "metadata": {},
   "source": [
    "<a id='code'></a>\n",
    "# 3. Pulse stream recovery from bandpass projection (code)\n",
    "\n",
    "As seen above, we will mainly have an \"index change\" when recovering the pulse stream parameters from a bandpass projection, namely using a bandpass kernel centered at $f_c$ Hz but still taking at least $2K$ Fourier coefficients.\n",
    "\n",
    "In code, our utility function from the last tutorial ``sample_ideal_project`` can take this account by setting the ``fc`` argument corresponding center frequency of our new ideal bandpass projection filter."
   ]
  },
  {
   "cell_type": "markdown",
   "metadata": {},
   "source": [
    "If our ideal box filter is centered around a frequency $f_c\\neq0$, we will not have real samples anymore! That is because our new sampling kernel is not [conjugate symmetric](http://musicweb.ucsd.edu/~trsmyth/compExpAndSpecRep/Conjugate_Symmetry_Hermitia.html), i.e. we do not have equal positive and negative frequency components. This is z characteristic of real signal which we have lost by shifting our box around baseband. Therefore, our filter and our resulting samples are complex-valued."
   ]
  },
  {
   "cell_type": "code",
   "execution_count": 1,
   "metadata": {},
   "outputs": [
    {
     "data": {
      "image/png": "[encoded data removed]",
      "text/plain": [
       "<matplotlib.figure.Figure at 0x11366f710>"
      ]
     },
     "metadata": {},
     "output_type": "display_data"
    }
   ],
   "source": [
    "import numpy as np\n",
    "import sys\n",
    "sys.path.append('..')\n",
    "import plot_settings\n",
    "from frius import create_pulse_param, sample_ideal_project\n",
    "figsize = (10,5)\n",
    "\n",
    "K = 5\n",
    "period = 0.5\n",
    "seed = 0\n",
    "fc = 500\n",
    "ck, tk = create_pulse_param(K=K, period=period, seed=seed)\n",
    "y_samp, t_samp, fs_ind_base = sample_ideal_project(ck, tk, period, fc=fc, viz=True, figsize=figsize)"
   ]
  },
  {
   "cell_type": "markdown",
   "metadata": {},
   "source": [
    "Otherwise, we can use our same functions from before for recovering the pulse parameters as we have the necessary number of Fourier coefficients!"
   ]
  },
  {
   "cell_type": "code",
   "execution_count": 2,
   "metadata": {},
   "outputs": [
    {
     "name": "stdout",
     "output_type": "stream",
     "text": [
      "||tk - tk_hat||_2 = 0.000000 \n",
      "||ck - ck_hat||_2 = 0.000000 \n"
     ]
    },
    {
     "data": {
      "image/png": "[encoded data removed]",
      "text/plain": [
       "<matplotlib.figure.Figure at 0x11ce03f98>"
      ]
     },
     "metadata": {},
     "output_type": "display_data"
    }
   ],
   "source": [
    "from frius import estimate_fourier_coeff, compute_ann_filt, estimate_time_param, estimate_amplitudes, evaluate_recovered_param\n",
    "\n",
    "freqs = fs_ind_base/period + fc\n",
    "\n",
    "fs_coeff_hat = estimate_fourier_coeff(y_samp, t_samp, fc=fc)\n",
    "ann_filt = compute_ann_filt(fs_coeff_hat, K)\n",
    "tk_hat = estimate_time_param(ann_filt, period)\n",
    "ck_hat = estimate_amplitudes(fs_coeff_hat, freqs, tk_hat, period)\n",
    "\n",
    "evaluate_recovered_param(ck, tk, ck_hat, tk_hat, viz=True, t_max=period, figsize=figsize)"
   ]
  },
  {
   "cell_type": "markdown",
   "metadata": {},
   "source": [
    "Note that certain steps of the procedure need to know what is the center frequency:\n",
    "1. Estimating Fourier coefficients as we need to obtain those around the center frequency.\n",
    "2. Estimating the amplitudes so that we can \"invert\" the following relationship for the correct frequencies/indices when solving the least-squares problem for the $c_k$'s:"
   ]
  },
  {
   "cell_type": "markdown",
   "metadata": {},
   "source": [
    "\\begin{align}\n",
    "X[m] &= \\sum_{k=0}^{K-1}c_k\\cdot \\exp(-j2\\pi m t_k/\\tau)\\\\\n",
    "\\end{align}"
   ]
  },
  {
   "cell_type": "markdown",
   "metadata": {},
   "source": [
    "<a id='why'></a>\n",
    "# 4. Why bandpass?\n",
    "\n",
    "So in what situation would we want to use a bandpass projection?\n",
    "\n",
    "Such a scenario could present itself in two ways:\n",
    "1. Our sampling mechanism only returns Fourier coefficients around some frequency $f_c$.\n",
    "2. Our signal is _modulated_ onto a pulse at a carrier/center frequency of $f_c$.\n",
    "\n",
    "In both cases, the general idea is the same: the frequency response between a pulse stream and our measurements can be characterized as bandpass. For the later case, we do have the possibility of selecting our sampling kernel so we could still use a lowpass projection. In a noisy scenario though, this may hinder our recovery process. It would make more sense to obtain Fourier coefficients where we expect a higher signal power, and thus a higher _signal-to-noise ratio_ (SNR). Assuming white noise, i.e. noise that has the same level across all frequencies, it would then make sense to obtain those Fourier coefficients around the carrier/center frequency $f_c$. The influence of noise will be considered in another notebook. More on this better SNR motivation by obtaining a bandpass projection can be read [here](https://ieeexplore.ieee.org/document/997119/)."
   ]
  },
  {
   "cell_type": "markdown",
   "metadata": {},
   "source": [
    "### Another perspective on the bandpass projection\n",
    "\n",
    "In the above procedure, we described our bandpass projection in terms of discrete Fourier coefficients but we can gain additional insight by expressing our sampling process in terms of continuous functions. Our ideal lowpass box filter can be expressed as:"
   ]
  },
  {
   "cell_type": "markdown",
   "metadata": {},
   "source": [
    "\\begin{equation}\n",
    "S_{LP}(f) = \n",
    "\\begin{cases}\n",
    "\\text{B}, & f\\in[-B/2, B/2]   \\\\[0.5em]\n",
    "\\text{0},      & \\text{otherwise}  \\\\\n",
    "\\end{cases}\n",
    "\\end{equation}"
   ]
  },
  {
   "cell_type": "markdown",
   "metadata": {},
   "source": [
    "where we multiply by $B$, the bandwidth of our filter, so that the total energy $\\int_{-\\infty}^{\\infty}S_{LP}(f)df=1$. In the pulse stream scenario we require $B \\geq \\dfrac{2K}{\\tau}$ for recovering the amplitudes and locations. In the time domain, our lowpass box filter can be written as:"
   ]
  },
  {
   "cell_type": "markdown",
   "metadata": {},
   "source": [
    "\\begin{equation}\n",
    "s_{LP}(t) = B \\hspace{0.1cm} \\text{sinc}(Bt) = \\dfrac{\\sin( \\pi BT)}{\\pi BT}\n",
    "\\end{equation}"
   ]
  },
  {
   "cell_type": "markdown",
   "metadata": {},
   "source": [
    "When applying an ideal bandpass filter instead, we are only shifting the center of our box filter to $f_c$, namely:"
   ]
  },
  {
   "cell_type": "markdown",
   "metadata": {},
   "source": [
    "\\begin{align}\n",
    "S_{BP}(f) &= \n",
    "\\begin{cases}\n",
    "\\text{B}, & f\\in[f_c-B/2, \\hspace{0.1cm}f_c+B/2]   \\\\[0.5em]\n",
    "\\text{0},      & \\text{otherwise}  \\\\\n",
    "\\end{cases}\\\\[0.5em]\n",
    "&= S_{LP}(f-f_c)\\\\\n",
    "\\end{align}"
   ]
  },
  {
   "cell_type": "markdown",
   "metadata": {},
   "source": [
    "Moreover, shifting in one domain is multiplication with a complex exponentional in the other. So our bandpass box filter can be written in the time domain as: "
   ]
  },
  {
   "cell_type": "markdown",
   "metadata": {},
   "source": [
    "\\begin{align}\n",
    "s_{BP}(t) &= \\exp(j2\\pi f_c t) \\cdot B \\hspace{0.1cm} \\text{sinc}(Bt) \\\\\n",
    "&= \\exp(j2\\pi f_c t) \\cdot s_{LP}(t) \\\\\n",
    "\\end{align}"
   ]
  },
  {
   "cell_type": "markdown",
   "metadata": {},
   "source": [
    "We can immediately see why our filter is complex valued as: $\\exp(j2\\pi f_c t) = \\cos(2\\pi f_c t) + j\\sin(2\\pi f_c t)$, thus making our samples also complex-valued. However, what's more interesting if we _split_ our bandpass filter into two operations. We can perform the following manipulation with our bandpass kernel $s_{BP}(t)$ and the input signal $x(t)$:"
   ]
  },
  {
   "cell_type": "markdown",
   "metadata": {},
   "source": [
    "\\begin{align}\n",
    "y(t) &= s_{BP}(t) \\ast x(t)\\\\\n",
    "&= \\big(\\exp(j2\\pi f_c t) \\cdot s_{LP}(t)\\big) \\ast x(t) \\\\\n",
    "&\\xrightarrow{\\mathscr{F}} S_{LP}(f-f_c)\\cdot X(f)\\\\\n",
    "&= S_{LP}(f) \\cdot X(f+f_c)\\\\\n",
    "&\\xrightarrow{\\mathscr{F}^{-1}} s_{LP}(t) \\ast \\big(\\exp(-j2\\pi f_c t) \\cdot X(f)\\big)\\\\\n",
    "\\Rightarrow y(t) &= s_{LP}(t) \\ast \\big(\\exp(-j2\\pi f_c t) \\cdot X(f)\\big)\\\\\n",
    "\\end{align}"
   ]
  },
  {
   "cell_type": "markdown",
   "metadata": {},
   "source": [
    "This is precisely [demodulation](https://en.wikipedia.org/wiki/Quadrature_amplitude_modulation#Receiver), namely first multiplying with the carrier and then lowpass filtering. The input $x(t)$ is often referred to as _Radio Frequency_ (RF) data and the output as _In-Phase and Quadrature_ (IQ) data. This type of demodulation is typically called [IQ demodulation](http://folk.ntnu.no/htorp/Undervisning/TTK10/IQdemodulation.pdf). At the link, you can find a nice introductory paper on IQ demodulation of RF data. "
   ]
  },
  {
   "cell_type": "markdown",
   "metadata": {},
   "source": [
    "<a id='summary'></a>\n",
    "# 5. Summary\n",
    "\n",
    "An essential component of our pulse steam recovery procedure, i.e. the annihilation constraint, requires us to have at least $2K$ adjacent Fourier coefficients. In the previous notebook, we used a lowpass projection to obtain those coefficients while in this notebook we generalized this procedure to any bandpass projection. We also motivated in what scenarios we would like to use a bandpass projection, e.g. noisy situations which will be considered in a later notebook and IQ demodulation.\n",
    "\n",
    "Moreover in our code until now, we have been using a signal of the following form:"
   ]
  },
  {
   "cell_type": "markdown",
   "metadata": {},
   "source": [
    "\\begin{equation}\n",
    "x(t) = \\sum_{k=0}^{K-1}c_k\\cdot \\delta(t-t_k)\n",
    "\\end{equation}"
   ]
  },
  {
   "cell_type": "markdown",
   "metadata": {},
   "source": [
    "whereas in our procedure we have discussed recovering the parameters for such a signal:"
   ]
  },
  {
   "cell_type": "markdown",
   "metadata": {},
   "source": [
    "\\begin{equation}\n",
    "y(t) = \\sum_{k=0}^{K-1}c_k\\cdot h(t-t_k)\n",
    "\\end{equation}"
   ]
  },
  {
   "cell_type": "markdown",
   "metadata": {},
   "source": [
    "where $h(t)$ is known so we can use its Fourier transfrom to remove the pulse/channel shape in our estimation process. In the next notebook, we will incorporate this \"equalization\" step to our code while applying what we have seen with applying a bandpass projection to recover the parameters from a modulated pulse stream. We will still work with noiseless data, but from the simulated samples we can make some insightful observations on why a bandpass projection is more suitable."
   ]
  }
 ],
 "metadata": {
  "kernelspec": {
   "display_name": "Python 3",
   "language": "python",
   "name": "python3"
  },
  "language_info": {
   "codemirror_mode": {
    "name": "ipython",
    "version": 3
   },
   "file_extension": ".py",
   "mimetype": "text/x-python",
   "name": "python",
   "nbconvert_exporter": "python",
   "pygments_lexer": "ipython3",
   "version": "3.6.3"
  }
 },
 "nbformat": 4,
 "nbformat_minor": 2
}
